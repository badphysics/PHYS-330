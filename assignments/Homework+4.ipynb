{
 "cells": [
  {
   "cell_type": "markdown",
   "metadata": {},
   "source": [
    "# PHYS-330 - Classical Mechanics - Fall 2017\n",
    "\n",
    "## Homework 2\n",
    "\n",
    "**Due:** 28th Sept 2017 by the start of class. Anything later will be considered late.\n",
    "Instructions: Complete all of the questions below. You are encouraged to use Jupyter Notebooks to complete any numerical work and written. While the use of python is encouraged, you can use any programming language you want. You can either email me your assignment **as a single pdf document** or provide me with a hard copy in class.  \n",
    "\n",
    "1. A particle of mass $m$ moves under gravity on a frictionless vertical wire of radius $R$.  At time $t=0$ the particle is travelling with speed $v_0$ at the top of the wire ($\\theta = 0$).  \n",
    "    a. Show that the magnitude of the force that the wire exerts on the particle is,\n",
    "    \\begin{equation}\n",
    "        N(\\theta) = mg(3\\cos\\theta - 2 - v_0^2/Rg).\n",
    "    \\end{equation}\n",
    "    b. Show that the period $T$ of the motion is given by  \n",
    "    \\begin{equation}\n",
    "            T = \\frac{2R}{v_0} \\int_0^\\pi \\frac{d\\theta}{\\sqrt{1 +(4Rg/v_0^2)\\sin^2(\\theta/2)}}.\n",
    "    \\end{equation}\n",
    "    Evaluate the period $T$ numerically and plot the graph of $T$ versus $(v_0/\\sqrt{Rg})$.  Make the units of $T$ be $\\sqrt{R/g}$. \n",
    "2. Consider a particle of mass $m$ acted on by a force $\\mathbf{F}$ in an inertial frame.  \n",
    "    a. Prove that \n",
    "    \\begin{equation}\n",
    "        dK = \\mathbf{F}\\cdot d\\mathbf{r}\n",
    "    \\end{equation}\n",
    "    where $d\\mathbf{r}$ is the change in the position vector of the particle in a time dt, and dK is the corresponding change in the kinetic energy $K=\\frac{1}{2} mv^2$.   \n",
    "     b. If $\\mathbf{F}$ is conservative, show that\n",
    "     \\begin{equation}\n",
    "         \\frac{d}{dt}(K+U) = 0\n",
    "     \\end{equation}  \n",
    "     c. Consider a time dependent force which can be expressed as the gradient of a scalar.  This means\n",
    "\\begin{equation}\n",
    "    \\mathbf{F}(x,t) = -\\boldsymbol{\\nabla}U(\\mathbf{r},t).\n",
    "\\end{equation}\n",
    "show that\n",
    "\\begin{equation}\n",
    "    \\frac{d}{dt}(K+U)=\\frac{\\partial U}{\\partial t}\n",
    "\\end{equation}\n",
    "3. A particle of mass $m$ is acted on by the one dimensional force\n",
    "\\begin{equation}\n",
    "    \\mathbf{F} = (b \\sin(\\frac{2\\pi x}{\\lambda}))\\hat{x}\n",
    "\\end{equation}\n",
    "where $b, \\lambda > 0$.  \n",
    "    a. Sketch the energy diagram. ($U$ vs $x$)  \n",
    "    b. For total energy $E > b\\lambda/2\\pi$, when is the velocity of the particle a maximum?  \n",
    "    c. for $E < b\\lambda/2\\pi$, classify the turning points and the stable and unstable equilibrium points.\n",
    "4. Consider a mass $m$ moving on a circular orbit due to an attractive (spherically symmetric) central force (the force of gravity is an example of such a field) with potential energy $U=kr^n$ where $n$ is a constant. Show that $T = nU/2$. (hint: use the fact that a spherically symmetric central force is conservative, section 4.8)\n",
    "5. A particle of mass m is attached to a thin light inextensible string moves with speed $v_0$ in a circle with radius $r_0$.  What is the work required to reduce the radius from $r_0$ to $r$ by pulling the other end of the string perpendicular to the plane of the circle in terms of $m$, $v_0$, $r_0$ and $r$."
   ]
  }
 ],
 "metadata": {
  "anaconda-cloud": {},
  "kernelspec": {
   "display_name": "py3",
   "language": "python",
   "name": "py3"
  },
  "language_info": {
   "codemirror_mode": {
    "name": "ipython",
    "version": 3
   },
   "file_extension": ".py",
   "mimetype": "text/x-python",
   "name": "python",
   "nbconvert_exporter": "python",
   "pygments_lexer": "ipython3",
   "version": "3.6.1"
  }
 },
 "nbformat": 4,
 "nbformat_minor": 2
}
