{
 "cells": [
  {
   "cell_type": "markdown",
   "metadata": {},
   "source": [
    "# PHYS-330 - Classical Mechanics - Fall 2017\n",
    "\n",
    "## Homework 2\n",
    "\n",
    "**Due:** 14th Sept 2017 by the start of class. Anything later will be considered late.\n",
    "Instructions: Complete all of the questions below. You are encouraged to use Jupyter Notebooks to complete any numerical work and written. While the use of python is encouraged, you can use any programming language you want. You can either email me your assignment or provide me with a hard copy in class.\n",
    "\n",
    "1. 2.11 from Taylor\n",
    "2. 2.21 from Taylor\n",
    "3. Consider a projectile (near the earth's surface) such that $|\\mathbf{v}_0| = 1$ at an angle of $\\theta$ from the horizontal.  \n",
    "    a. what is the maximum range of the projectile?  \n",
    "    b. Now consider the same projectile which is now subjected to linear drag.  What is the range (exact to 5 decimal places) of the projectile if $\\theta = \\pi/4$?  \n",
    "    c. determine the angle (exact to at least 4 decimal places) of maximum range for the projectile in the previous question. \n",
    "4. 2.42 from Taylor\n",
    "5. A particle of mass m and charge q is subject to a non-uniform magnetostatic field \n",
    "$$\n",
    "\\mathbf{B} = (0, −\\alpha y, 1 + \\alpha z)B ,\n",
    "$$\n",
    "where $\\alpha$ and $B$ are positive constants.  \n",
    "    a. Show that equations of motion are\n",
    "    $$\n",
    "    \\begin{array}{rcl}\n",
    "       \\displaystyle \\frac{dX}{d\\tau} - (1 + Z)Y & = & D \\\\\n",
    "       \\displaystyle \\frac{d^2Y}{d\\tau^2} + (1 + Z)^2 Y + D(1+Z) & =& 0 \\\\\n",
    "       \\displaystyle \\frac{d^2Z}{d\\tau^2} +(1 + Z)Y^2 + DY & = & 0\n",
    "    \\end{array}\n",
    "    $$\n",
    "    where $D$ is a constant and $(X,Y,Z)=(\\alpha x, \\alpha y, \\alpha z)$ and $\\tau = \\displaystyle\\frac{qBt}{ m} = \\omega t$.  \n",
    "    b. Consider the initial conditions at $t=0$ as $(X,Y,Z)_0 = (0,Y_0,0)$ and $\\mathbf{V}_0 = (U_1,0,U_3)$ where $U_i = \\alpha u_i/\\omega$ are dimensionless velocities.  Take $Y_0=0.66$, $U_1=0.02$, and $U_3 = 0.08$.  Numerically solve the system of differential equations and make plots of $X(\\tau)$, $Y(\\tau)$ and $Z(\\tau)$.  Also plot $Y(Z)$ and $Y(X)$.  (Note: $D = U_1-Y_0 = -0.64$)\n",
    "    "
   ]
  },
  {
   "cell_type": "code",
   "execution_count": null,
   "metadata": {
    "collapsed": true
   },
   "outputs": [],
   "source": []
  }
 ],
 "metadata": {
  "anaconda-cloud": {},
  "kernelspec": {
   "display_name": "py3",
   "language": "python",
   "name": "py3"
  },
  "language_info": {
   "codemirror_mode": {
    "name": "ipython",
    "version": 3
   },
   "file_extension": ".py",
   "mimetype": "text/x-python",
   "name": "python",
   "nbconvert_exporter": "python",
   "pygments_lexer": "ipython3",
   "version": "3.6.1"
  }
 },
 "nbformat": 4,
 "nbformat_minor": 2
}
