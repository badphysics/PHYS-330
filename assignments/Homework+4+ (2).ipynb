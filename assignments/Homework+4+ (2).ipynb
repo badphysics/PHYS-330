{
 "cells": [
  {
   "cell_type": "markdown",
   "metadata": {},
   "source": [
    "# PHYS-330 - Classical Mechanics - Fall 2017\n",
    "\n",
    "## Homework 4\n",
    "\n",
    "**Due:** 28th Sept 2017 by the start of class. Anything later will be considered late.\n",
    "Instructions: Complete all of the questions below. You are encouraged to use Jupyter Notebooks to complete any numerical work and written. While the use of python is encouraged, you can use any programming language you want. You can either email me your assignment **as a single pdf document** or provide me with a hard copy in class.  \n",
    "\n",
    "1. A particle of mass $m$ moves under gravity on a frictionless vertical wire of radius $R$.  At time $t=0$ the particle is travelling with speed $v_0$ at the top of the wire ($\\theta = 0$).  a. Show that the magnitude of the force that the wire exerts on the particle is,  \n",
    "    $$\n",
    "        N(\\theta) = mg(3\\cos\\theta - 2 - v_0^2/Rg).\n",
    "    $$\n",
    "b. Show that the period $T$ of the motion is given by  \n",
    "    $$  \n",
    "            T = \\frac{2R}{v_0} \\int_0^\\pi \\frac{d\\theta}{\\sqrt{1 +(4Rg/v_0^2)\\sin^2(\\theta/2)}}.\n",
    "    $$  \n",
    "Evaluate the period $T$ numerically and plot the graph of $T$ versus $(v_0/\\sqrt{Rg})$.  Make the units of $T$ be $\\sqrt{R/g}$. \n",
    "2. Consider a particle of mass $m$ acted on by a force $\\mathbf{F}$ in an inertial frame. a. Prove that \n",
    "    $$\n",
    "        dK = \\mathbf{F}\\cdot d\\mathbf{r}\n",
    "    $$\n",
    "where $d\\mathbf{r}$ is the change in the position vector of the particle in a time dt, and dK is the corresponding change in the kinetic energy $K=\\frac{1}{2} mv^2$.  b. If $\\mathbf{F}$ is conservative, show that\n",
    "     $$\n",
    "         \\frac{d}{dt}(K+U) = 0\n",
    "     $$\n",
    "c. Consider a time dependent force which can be expressed as the gradient of a scalar.  This means  \n",
    "$$\n",
    "    \\mathbf{F}(x,t) = -\\nabla U(\\mathbf{r},t).\n",
    "$$\n",
    "show that\n",
    "$$\n",
    "    \\frac{d}{dt}(K+U)=\\frac{\\partial U}{\\partial t}\n",
    "$$\n",
    "3. A particle of mass $m$ is acted on by the one dimensional force\n",
    "$$\n",
    "    \\mathbf{F} = (b \\sin(\\frac{2\\pi x}{\\lambda}))\\hat{x}\n",
    "$$\n",
    "where $b, \\lambda > 0$.  \n",
    "    a. Sketch the energy diagram. ($U$ vs $x$)  \n",
    "    b. For total energy $E > b\\lambda/2\\pi$, when is the velocity of the particle a maximum?  \n",
    "    c. for $E < b\\lambda/2\\pi$, classify the turning points and the stable and unstable equilibrium points.\n",
    "4. Consider a mass $m$ moving on a circular orbit due to an attractive (spherically symmetric) central force (the force of gravity is an example of such a field) with potential energy $U=kr^n$ where $n$ is a constant. Show that $T = nU/2$. (hint: use the fact that a spherically symmetric central force is conservative, section 4.8)\n",
    "5. A particle of mass m is attached to a thin light inextensible string moves with speed $v_0$ in a circle with radius $r_0$.  What is the work required to reduce the radius from $r_0$ to $r$ by pulling the other end of the string perpendicular to the plane of the circle in terms of $m$, $v_0$, $r_0$ and $r$."
   ]
  },
  {
   "cell_type": "markdown",
   "metadata": {
    "scrolled": true
   },
   "source": [
    "## Help for plotting and numerical integration\n",
    "\n",
    "To numerically integrate $y=\\sin 2\\theta$ we can use the scipy.integrate library. This library contains many different methods for numerically solving an integral.  Below we use scipy's quad method to numerically evaluate the integral of $y$ from 0 to $\\pi/2$.\n",
    "$$\n",
    "I = \\int_0^{\\pi/2} \\sin a\\theta\\; d\\theta = 1\n",
    "$$\n",
    "for $a=2$.\n"
   ]
  },
  {
   "cell_type": "code",
   "execution_count": 32,
   "metadata": {},
   "outputs": [
    {
     "name": "stdout",
     "output_type": "stream",
     "text": [
      "the integrals value is 1.0\n",
      "the absolute error is 1.1102230246251565e-14\n"
     ]
    }
   ],
   "source": [
    "import scipy.integrate as sci\n",
    "import numpy as np\n",
    "from matplotlib import pyplot as plt\n",
    "\n",
    "'''\n",
    "Below is how to implement the quadripole method from scipy\n",
    "\n",
    "lambda x: np.sin(2*x)\n",
    "\n",
    "defines a lambda function which we can integrate\n",
    "'''\n",
    "a,b = sci.quad(lambda x: np.sin(2*x),0,np.pi/2)\n",
    "\n",
    "print(\"the integrals value is\",a)\n",
    "print(\"the absolute error is\",b)"
   ]
  },
  {
   "cell_type": "markdown",
   "metadata": {},
   "source": [
    "Now let's vary $a$ and plot I versus a.\n",
    "\n"
   ]
  },
  {
   "cell_type": "code",
   "execution_count": 34,
   "metadata": {
    "scrolled": true
   },
   "outputs": [
    {
     "data": {
      "image/png": "[encoded data removed]",
      "text/plain": [
       "<matplotlib.figure.Figure at 0x7f4a79f90588>"
      ]
     },
     "metadata": {},
     "output_type": "display_data"
    }
   ],
   "source": [
    "def evalint(a):\n",
    "    \"\"\"\n",
    "    This function takes in a value a and evaluate the integral above.  \n",
    "    It returns the value of the integral.\n",
    "     \"\"\"\n",
    "    a, b = sci.quad(lambda x: np.sin(a*x),0,np.pi/2)\n",
    "    return a\n",
    "\n",
    "t = np.linspace(0,15,100) # t is the array of a values we are going to use\n",
    "y = np.array([evalint(i) for i in t]) # this line creates an array of integral values \n",
    "                                    # which correspond to the values of t \n",
    "\n",
    "plt.plot(t,y)\n",
    "plt.xlabel(\"a\")\n",
    "plt.ylabel(\"I\")\n",
    "\n",
    "plt.show()"
   ]
  }
 ],
 "metadata": {
  "anaconda-cloud": {},
  "kernelspec": {
   "display_name": "py3",
   "language": "python",
   "name": "py3"
  },
  "language_info": {
   "codemirror_mode": {
    "name": "ipython",
    "version": 3
   },
   "file_extension": ".py",
   "mimetype": "text/x-python",
   "name": "python",
   "nbconvert_exporter": "python",
   "pygments_lexer": "ipython3",
   "version": "3.6.1"
  }
 },
 "nbformat": 4,
 "nbformat_minor": 2
}
